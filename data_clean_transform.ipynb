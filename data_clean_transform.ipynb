{
 "cells": [
  {
   "cell_type": "code",
   "execution_count": 1,
   "id": "29f3264f-99a3-485a-971b-30aa68bdbccc",
   "metadata": {},
   "outputs": [],
   "source": [
    "import pandas as pd\n",
    "import glob\n",
    "import os\n",
    "from pyspark.sql import SparkSession"
   ]
  },
  {
   "cell_type": "code",
   "execution_count": null,
   "metadata": {},
   "outputs": [],
   "source": [
    "# download data(https://github.com/erkansirin78/datasets/raw/master/sensors_instrumented_in_an_office_building_dataset.zip) and unzip"
   ]
  },
  {
   "cell_type": "code",
   "execution_count": null,
   "id": "c2492eaf-c94b-4d64-93e2-292a5c1067de",
   "metadata": {},
   "outputs": [],
   "source": [
    "# unzipped files loaciton\n",
    "files = glob.glob(\"/opt/spark/examples/datasets/KETI/*/*.csv\")\n",
    "\n",
    "# get single file from many files.\n",
    "dataframes = []\n",
    "\n",
    "for file in files:\n",
    "    df = pd.read_csv(file, header=None)\n",
    "    df['room'] = file.split(\"/opt/spark/examples/datasets/KETI/\")[1].split(\".csv\")[0].split(\"/\")[0]\n",
    "    df['sensor'] = file.split(\"/opt/spark/examples/datasets/KETI/\")[1].split(\".csv\")[0].split(\"/\")[1]\n",
    "    dataframes.append(df)\n",
    "\n",
    "combined_data = pd.concat(dataframes, ignore_index=True)\n",
    "\n",
    "combined_data.to_csv(\"concat_keti.csv\", index=False, header=None)"
   ]
  },
  {
   "cell_type": "code",
   "execution_count": 2,
   "id": "58feb5b0-2047-4201-a882-23c0ef831ddf",
   "metadata": {},
   "outputs": [
    {
     "name": "stderr",
     "output_type": "stream",
     "text": [
      "23/11/17 13:14:24 WARN Utils: Your hostname, localhost.localdomain resolves to a loopback address: 127.0.0.1; using 10.0.2.15 instead (on interface enp0s3)\n",
      "23/11/17 13:14:24 WARN Utils: Set SPARK_LOCAL_IP if you need to bind to another address\n"
     ]
    },
    {
     "name": "stdout",
     "output_type": "stream",
     "text": [
      ":: loading settings :: url = jar:file:/home/train/miniconda3/lib/python3.8/site-packages/pyspark/jars/ivy-2.5.1.jar!/org/apache/ivy/core/settings/ivysettings.xml\n"
     ]
    },
    {
     "name": "stderr",
     "output_type": "stream",
     "text": [
      "Ivy Default Cache set to: /home/train/.ivy2/cache\n",
      "The jars for the packages stored in: /home/train/.ivy2/jars\n",
      "org.apache.spark#spark-avro_2.12 added as a dependency\n",
      ":: resolving dependencies :: org.apache.spark#spark-submit-parent-b567df19-824b-4524-a21d-270b5ba0e381;1.0\n",
      "\tconfs: [default]\n",
      "\tfound org.apache.spark#spark-avro_2.12;3.4.1 in central\n",
      "\tfound org.tukaani#xz;1.9 in central\n",
      ":: resolution report :: resolve 178ms :: artifacts dl 6ms\n",
      "\t:: modules in use:\n",
      "\torg.apache.spark#spark-avro_2.12;3.4.1 from central in [default]\n",
      "\torg.tukaani#xz;1.9 from central in [default]\n",
      "\t---------------------------------------------------------------------\n",
      "\t|                  |            modules            ||   artifacts   |\n",
      "\t|       conf       | number| search|dwnlded|evicted|| number|dwnlded|\n",
      "\t---------------------------------------------------------------------\n",
      "\t|      default     |   2   |   0   |   0   |   0   ||   2   |   0   |\n",
      "\t---------------------------------------------------------------------\n",
      ":: retrieving :: org.apache.spark#spark-submit-parent-b567df19-824b-4524-a21d-270b5ba0e381\n",
      "\tconfs: [default]\n",
      "\t0 artifacts copied, 2 already retrieved (0kB/4ms)\n",
      "23/11/17 13:14:25 WARN NativeCodeLoader: Unable to load native-hadoop library for your platform... using builtin-java classes where applicable\n",
      "Setting default log level to \"WARN\".\n",
      "To adjust logging level use sc.setLogLevel(newLevel). For SparkR, use setLogLevel(newLevel).\n"
     ]
    }
   ],
   "source": [
    "#start spark session\n",
    "spark = SparkSession.builder \\\n",
    ".appName(\"HomeWorkSparkDataClean\") \\\n",
    ".master(\"local[2]\") \\\n",
    ".config(\"spark.jars.packages\",\"org.apache.spark:spark-avro_2.12:3.4.1\") \\\n",
    ".getOrCreate()"
   ]
  },
  {
   "cell_type": "code",
   "execution_count": 3,
   "id": "5374dc7d-b3f0-4913-8bfb-07ac05a26f03",
   "metadata": {},
   "outputs": [],
   "source": [
    "from pyspark.sql.types import *\n",
    "\n",
    "custom_schema = StructType([\n",
    "        StructField(\"timestamp\",IntegerType(),True),\n",
    "        StructField(\"value\",FloatType(),True),\n",
    "        StructField(\"room\",StringType(),True),\n",
    "        StructField(\"sensor\",StringType(),True)\n",
    "    ])"
   ]
  },
  {
   "cell_type": "code",
   "execution_count": 4,
   "id": "3e0855f2-0c8a-47bb-9cdd-1b6836e7c329",
   "metadata": {},
   "outputs": [],
   "source": [
    "df = spark.read \\\n",
    ".format(\"csv\") \\\n",
    ".option(\"header\", False) \\\n",
    ".schema(custom_schema) \\\n",
    ".load(\"file:///home/train/00_spark_kafka_postgres_minio_docker_compose/spark/examples/final/concat_keti.csv\")"
   ]
  },
  {
   "cell_type": "code",
   "execution_count": 5,
   "id": "59f3a3ad-2967-4f6a-8a63-52e4a7d87da1",
   "metadata": {},
   "outputs": [
    {
     "data": {
      "text/html": [
       "<div>\n",
       "<style scoped>\n",
       "    .dataframe tbody tr th:only-of-type {\n",
       "        vertical-align: middle;\n",
       "    }\n",
       "\n",
       "    .dataframe tbody tr th {\n",
       "        vertical-align: top;\n",
       "    }\n",
       "\n",
       "    .dataframe thead th {\n",
       "        text-align: right;\n",
       "    }\n",
       "</style>\n",
       "<table border=\"1\" class=\"dataframe\">\n",
       "  <thead>\n",
       "    <tr style=\"text-align: right;\">\n",
       "      <th></th>\n",
       "      <th>timestamp</th>\n",
       "      <th>value</th>\n",
       "      <th>room</th>\n",
       "      <th>sensor</th>\n",
       "    </tr>\n",
       "  </thead>\n",
       "  <tbody>\n",
       "    <tr>\n",
       "      <th>0</th>\n",
       "      <td>1377292829</td>\n",
       "      <td>24.219999</td>\n",
       "      <td>776</td>\n",
       "      <td>temperature</td>\n",
       "    </tr>\n",
       "    <tr>\n",
       "      <th>1</th>\n",
       "      <td>1377292834</td>\n",
       "      <td>24.240000</td>\n",
       "      <td>776</td>\n",
       "      <td>temperature</td>\n",
       "    </tr>\n",
       "    <tr>\n",
       "      <th>2</th>\n",
       "      <td>1377292839</td>\n",
       "      <td>24.240000</td>\n",
       "      <td>776</td>\n",
       "      <td>temperature</td>\n",
       "    </tr>\n",
       "    <tr>\n",
       "      <th>3</th>\n",
       "      <td>1377292844</td>\n",
       "      <td>24.240000</td>\n",
       "      <td>776</td>\n",
       "      <td>temperature</td>\n",
       "    </tr>\n",
       "    <tr>\n",
       "      <th>4</th>\n",
       "      <td>1377292849</td>\n",
       "      <td>24.240000</td>\n",
       "      <td>776</td>\n",
       "      <td>temperature</td>\n",
       "    </tr>\n",
       "  </tbody>\n",
       "</table>\n",
       "</div>"
      ],
      "text/plain": [
       "    timestamp      value room       sensor\n",
       "0  1377292829  24.219999  776  temperature\n",
       "1  1377292834  24.240000  776  temperature\n",
       "2  1377292839  24.240000  776  temperature\n",
       "3  1377292844  24.240000  776  temperature\n",
       "4  1377292849  24.240000  776  temperature"
      ]
     },
     "execution_count": 5,
     "metadata": {},
     "output_type": "execute_result"
    }
   ],
   "source": [
    "df.limit(5).toPandas()"
   ]
  },
  {
   "cell_type": "code",
   "execution_count": 6,
   "id": "4a80a685-7332-4f1c-b59d-e200a9eb9dc8",
   "metadata": {},
   "outputs": [],
   "source": [
    "df.createOrReplaceTempView(\"keti\")"
   ]
  },
  {
   "cell_type": "code",
   "execution_count": 23,
   "id": "5e596bb2-d8c2-4e7b-acd7-d5d35717e80b",
   "metadata": {},
   "outputs": [
    {
     "name": "stdout",
     "output_type": "stream",
     "text": [
      "root\n",
      " |-- time: timestamp (nullable = true)\n",
      " |-- value: decimal(10,2) (nullable = true)\n",
      " |-- room: string (nullable = true)\n",
      " |-- sensor: string (nullable = true)\n",
      "\n"
     ]
    },
    {
     "data": {
      "text/html": [
       "<div>\n",
       "<style scoped>\n",
       "    .dataframe tbody tr th:only-of-type {\n",
       "        vertical-align: middle;\n",
       "    }\n",
       "\n",
       "    .dataframe tbody tr th {\n",
       "        vertical-align: top;\n",
       "    }\n",
       "\n",
       "    .dataframe thead th {\n",
       "        text-align: right;\n",
       "    }\n",
       "</style>\n",
       "<table border=\"1\" class=\"dataframe\">\n",
       "  <thead>\n",
       "    <tr style=\"text-align: right;\">\n",
       "      <th></th>\n",
       "      <th>time</th>\n",
       "      <th>value</th>\n",
       "      <th>room</th>\n",
       "      <th>sensor</th>\n",
       "    </tr>\n",
       "  </thead>\n",
       "  <tbody>\n",
       "    <tr>\n",
       "      <th>0</th>\n",
       "      <td>2013-08-24 00:20:00</td>\n",
       "      <td>24.22</td>\n",
       "      <td>776</td>\n",
       "      <td>temperature</td>\n",
       "    </tr>\n",
       "    <tr>\n",
       "      <th>1</th>\n",
       "      <td>2013-08-24 00:20:00</td>\n",
       "      <td>24.24</td>\n",
       "      <td>776</td>\n",
       "      <td>temperature</td>\n",
       "    </tr>\n",
       "    <tr>\n",
       "      <th>2</th>\n",
       "      <td>2013-08-24 00:20:00</td>\n",
       "      <td>24.24</td>\n",
       "      <td>776</td>\n",
       "      <td>temperature</td>\n",
       "    </tr>\n",
       "    <tr>\n",
       "      <th>3</th>\n",
       "      <td>2013-08-24 00:20:00</td>\n",
       "      <td>24.24</td>\n",
       "      <td>776</td>\n",
       "      <td>temperature</td>\n",
       "    </tr>\n",
       "    <tr>\n",
       "      <th>4</th>\n",
       "      <td>2013-08-24 00:20:00</td>\n",
       "      <td>24.24</td>\n",
       "      <td>776</td>\n",
       "      <td>temperature</td>\n",
       "    </tr>\n",
       "  </tbody>\n",
       "</table>\n",
       "</div>"
      ],
      "text/plain": [
       "                 time  value room       sensor\n",
       "0 2013-08-24 00:20:00  24.22  776  temperature\n",
       "1 2013-08-24 00:20:00  24.24  776  temperature\n",
       "2 2013-08-24 00:20:00  24.24  776  temperature\n",
       "3 2013-08-24 00:20:00  24.24  776  temperature\n",
       "4 2013-08-24 00:20:00  24.24  776  temperature"
      ]
     },
     "execution_count": 23,
     "metadata": {},
     "output_type": "execute_result"
    }
   ],
   "source": [
    "df_1 = spark.sql(\"\"\"\n",
    "\n",
    "    SELECT DATE_TRUNC('minute', cast(timestamp as timestamp)) as time, cast(value as decimal(10,2)), room, sensor\n",
    "    FROM keti\n",
    "    \n",
    "\"\"\")\n",
    "\n",
    "df_1.printSchema()\n",
    "\n",
    "df_1.limit(5).toPandas()"
   ]
  },
  {
   "cell_type": "code",
   "execution_count": 24,
   "id": "9188a616-9f59-4d63-aec3-c50ae5b4b72c",
   "metadata": {},
   "outputs": [],
   "source": [
    "df_1.createOrReplaceTempView(\"keti_1\")"
   ]
  },
  {
   "cell_type": "code",
   "execution_count": 25,
   "id": "67cf3f7b-2a61-468c-a52b-a858381f1044",
   "metadata": {},
   "outputs": [
    {
     "name": "stdout",
     "output_type": "stream",
     "text": [
      "root\n",
      " |-- time: timestamp (nullable = true)\n",
      " |-- room: string (nullable = true)\n",
      " |-- value: decimal(14,6) (nullable = true)\n",
      "\n"
     ]
    },
    {
     "name": "stderr",
     "output_type": "stream",
     "text": [
      "                                                                                \r"
     ]
    },
    {
     "data": {
      "text/html": [
       "<div>\n",
       "<style scoped>\n",
       "    .dataframe tbody tr th:only-of-type {\n",
       "        vertical-align: middle;\n",
       "    }\n",
       "\n",
       "    .dataframe tbody tr th {\n",
       "        vertical-align: top;\n",
       "    }\n",
       "\n",
       "    .dataframe thead th {\n",
       "        text-align: right;\n",
       "    }\n",
       "</style>\n",
       "<table border=\"1\" class=\"dataframe\">\n",
       "  <thead>\n",
       "    <tr style=\"text-align: right;\">\n",
       "      <th></th>\n",
       "      <th>time</th>\n",
       "      <th>room</th>\n",
       "      <th>value</th>\n",
       "    </tr>\n",
       "  </thead>\n",
       "  <tbody>\n",
       "    <tr>\n",
       "      <th>0</th>\n",
       "      <td>2013-08-24 04:03:00</td>\n",
       "      <td>776</td>\n",
       "      <td>24.517500</td>\n",
       "    </tr>\n",
       "    <tr>\n",
       "      <th>1</th>\n",
       "      <td>2013-08-24 06:41:00</td>\n",
       "      <td>776</td>\n",
       "      <td>23.858333</td>\n",
       "    </tr>\n",
       "    <tr>\n",
       "      <th>2</th>\n",
       "      <td>2013-08-24 09:18:00</td>\n",
       "      <td>776</td>\n",
       "      <td>23.247500</td>\n",
       "    </tr>\n",
       "    <tr>\n",
       "      <th>3</th>\n",
       "      <td>2013-08-24 09:28:00</td>\n",
       "      <td>776</td>\n",
       "      <td>23.208333</td>\n",
       "    </tr>\n",
       "    <tr>\n",
       "      <th>4</th>\n",
       "      <td>2013-08-24 11:43:00</td>\n",
       "      <td>776</td>\n",
       "      <td>22.865000</td>\n",
       "    </tr>\n",
       "  </tbody>\n",
       "</table>\n",
       "</div>"
      ],
      "text/plain": [
       "                 time room      value\n",
       "0 2013-08-24 04:03:00  776  24.517500\n",
       "1 2013-08-24 06:41:00  776  23.858333\n",
       "2 2013-08-24 09:18:00  776  23.247500\n",
       "3 2013-08-24 09:28:00  776  23.208333\n",
       "4 2013-08-24 11:43:00  776  22.865000"
      ]
     },
     "execution_count": 25,
     "metadata": {},
     "output_type": "execute_result"
    }
   ],
   "source": [
    "df_temperature = spark.sql(\"\"\"\n",
    "\n",
    "    SELECT time, room, avg(value) as value\n",
    "    FROM keti_1\n",
    "    where sensor = 'temperature'\n",
    "    group by time, room\n",
    "    \n",
    "\"\"\")\n",
    "\n",
    "df_temperature.printSchema()\n",
    "\n",
    "df_temperature.limit(5).toPandas()"
   ]
  },
  {
   "cell_type": "code",
   "execution_count": 26,
   "id": "8958c65d-a96a-4d38-850f-afb98565a189",
   "metadata": {},
   "outputs": [],
   "source": [
    "df_temperature.createOrReplaceTempView(\"temperature\")"
   ]
  },
  {
   "cell_type": "code",
   "execution_count": 27,
   "id": "e6716552-7144-4810-b74e-98b96978d26c",
   "metadata": {},
   "outputs": [
    {
     "name": "stdout",
     "output_type": "stream",
     "text": [
      "root\n",
      " |-- time: timestamp (nullable = true)\n",
      " |-- room: string (nullable = true)\n",
      " |-- value: decimal(14,6) (nullable = true)\n",
      "\n"
     ]
    },
    {
     "name": "stderr",
     "output_type": "stream",
     "text": [
      "                                                                                \r"
     ]
    },
    {
     "data": {
      "text/html": [
       "<div>\n",
       "<style scoped>\n",
       "    .dataframe tbody tr th:only-of-type {\n",
       "        vertical-align: middle;\n",
       "    }\n",
       "\n",
       "    .dataframe tbody tr th {\n",
       "        vertical-align: top;\n",
       "    }\n",
       "\n",
       "    .dataframe thead th {\n",
       "        text-align: right;\n",
       "    }\n",
       "</style>\n",
       "<table border=\"1\" class=\"dataframe\">\n",
       "  <thead>\n",
       "    <tr style=\"text-align: right;\">\n",
       "      <th></th>\n",
       "      <th>time</th>\n",
       "      <th>room</th>\n",
       "      <th>value</th>\n",
       "    </tr>\n",
       "  </thead>\n",
       "  <tbody>\n",
       "    <tr>\n",
       "      <th>0</th>\n",
       "      <td>2013-08-24 04:03:00</td>\n",
       "      <td>776</td>\n",
       "      <td>0.000000</td>\n",
       "    </tr>\n",
       "    <tr>\n",
       "      <th>1</th>\n",
       "      <td>2013-08-24 06:41:00</td>\n",
       "      <td>776</td>\n",
       "      <td>0.000000</td>\n",
       "    </tr>\n",
       "    <tr>\n",
       "      <th>2</th>\n",
       "      <td>2013-08-24 09:18:00</td>\n",
       "      <td>776</td>\n",
       "      <td>0.000000</td>\n",
       "    </tr>\n",
       "    <tr>\n",
       "      <th>3</th>\n",
       "      <td>2013-08-24 09:28:00</td>\n",
       "      <td>776</td>\n",
       "      <td>0.000000</td>\n",
       "    </tr>\n",
       "    <tr>\n",
       "      <th>4</th>\n",
       "      <td>2013-08-24 11:43:00</td>\n",
       "      <td>776</td>\n",
       "      <td>0.000000</td>\n",
       "    </tr>\n",
       "  </tbody>\n",
       "</table>\n",
       "</div>"
      ],
      "text/plain": [
       "                 time room     value\n",
       "0 2013-08-24 04:03:00  776  0.000000\n",
       "1 2013-08-24 06:41:00  776  0.000000\n",
       "2 2013-08-24 09:18:00  776  0.000000\n",
       "3 2013-08-24 09:28:00  776  0.000000\n",
       "4 2013-08-24 11:43:00  776  0.000000"
      ]
     },
     "execution_count": 27,
     "metadata": {},
     "output_type": "execute_result"
    }
   ],
   "source": [
    "df_pir = spark.sql(\"\"\"\n",
    "\n",
    "    SELECT time, room, avg(value) as value\n",
    "    FROM keti_1\n",
    "    where sensor = 'pir'\n",
    "    group by time, room\n",
    "    \n",
    "\"\"\")\n",
    "\n",
    "df_pir.printSchema()\n",
    "\n",
    "df_pir.limit(5).toPandas()"
   ]
  },
  {
   "cell_type": "code",
   "execution_count": 28,
   "id": "3341a10e-6c3a-4029-b6a7-e64e624ae19b",
   "metadata": {},
   "outputs": [],
   "source": [
    "df_pir.createOrReplaceTempView(\"pir\")"
   ]
  },
  {
   "cell_type": "code",
   "execution_count": 29,
   "id": "8bc5b524-8b02-4c31-98f6-d98329ada63a",
   "metadata": {},
   "outputs": [
    {
     "name": "stdout",
     "output_type": "stream",
     "text": [
      "root\n",
      " |-- time: timestamp (nullable = true)\n",
      " |-- room: string (nullable = true)\n",
      " |-- value: decimal(14,6) (nullable = true)\n",
      "\n"
     ]
    },
    {
     "name": "stderr",
     "output_type": "stream",
     "text": [
      "                                                                                \r"
     ]
    },
    {
     "data": {
      "text/html": [
       "<div>\n",
       "<style scoped>\n",
       "    .dataframe tbody tr th:only-of-type {\n",
       "        vertical-align: middle;\n",
       "    }\n",
       "\n",
       "    .dataframe tbody tr th {\n",
       "        vertical-align: top;\n",
       "    }\n",
       "\n",
       "    .dataframe thead th {\n",
       "        text-align: right;\n",
       "    }\n",
       "</style>\n",
       "<table border=\"1\" class=\"dataframe\">\n",
       "  <thead>\n",
       "    <tr style=\"text-align: right;\">\n",
       "      <th></th>\n",
       "      <th>time</th>\n",
       "      <th>room</th>\n",
       "      <th>value</th>\n",
       "    </tr>\n",
       "  </thead>\n",
       "  <tbody>\n",
       "    <tr>\n",
       "      <th>0</th>\n",
       "      <td>2013-08-24 04:03:00</td>\n",
       "      <td>776</td>\n",
       "      <td>59.250000</td>\n",
       "    </tr>\n",
       "    <tr>\n",
       "      <th>1</th>\n",
       "      <td>2013-08-24 06:41:00</td>\n",
       "      <td>776</td>\n",
       "      <td>4.333333</td>\n",
       "    </tr>\n",
       "    <tr>\n",
       "      <th>2</th>\n",
       "      <td>2013-08-24 09:18:00</td>\n",
       "      <td>776</td>\n",
       "      <td>4.166667</td>\n",
       "    </tr>\n",
       "    <tr>\n",
       "      <th>3</th>\n",
       "      <td>2013-08-24 09:28:00</td>\n",
       "      <td>776</td>\n",
       "      <td>4.333333</td>\n",
       "    </tr>\n",
       "    <tr>\n",
       "      <th>4</th>\n",
       "      <td>2013-08-24 11:43:00</td>\n",
       "      <td>776</td>\n",
       "      <td>4.000000</td>\n",
       "    </tr>\n",
       "  </tbody>\n",
       "</table>\n",
       "</div>"
      ],
      "text/plain": [
       "                 time room      value\n",
       "0 2013-08-24 04:03:00  776  59.250000\n",
       "1 2013-08-24 06:41:00  776   4.333333\n",
       "2 2013-08-24 09:18:00  776   4.166667\n",
       "3 2013-08-24 09:28:00  776   4.333333\n",
       "4 2013-08-24 11:43:00  776   4.000000"
      ]
     },
     "execution_count": 29,
     "metadata": {},
     "output_type": "execute_result"
    }
   ],
   "source": [
    "df_light = spark.sql(\"\"\"\n",
    "\n",
    "    SELECT time, room, avg(value) as value\n",
    "    FROM keti_1\n",
    "    where sensor = 'light'\n",
    "    group by time, room\n",
    "    \n",
    "\"\"\")\n",
    "\n",
    "df_light.printSchema()\n",
    "\n",
    "df_light.limit(5).toPandas()"
   ]
  },
  {
   "cell_type": "code",
   "execution_count": 30,
   "id": "bbf94bd7-8d54-4545-8246-05468280593e",
   "metadata": {},
   "outputs": [],
   "source": [
    "df_light.createOrReplaceTempView(\"light\")"
   ]
  },
  {
   "cell_type": "code",
   "execution_count": 31,
   "id": "e28c3e62-ec9f-44ba-9fef-0d967a6b6670",
   "metadata": {},
   "outputs": [
    {
     "name": "stdout",
     "output_type": "stream",
     "text": [
      "root\n",
      " |-- time: timestamp (nullable = true)\n",
      " |-- room: string (nullable = true)\n",
      " |-- value: decimal(14,6) (nullable = true)\n",
      "\n"
     ]
    },
    {
     "name": "stderr",
     "output_type": "stream",
     "text": [
      "                                                                                \r"
     ]
    },
    {
     "data": {
      "text/html": [
       "<div>\n",
       "<style scoped>\n",
       "    .dataframe tbody tr th:only-of-type {\n",
       "        vertical-align: middle;\n",
       "    }\n",
       "\n",
       "    .dataframe tbody tr th {\n",
       "        vertical-align: top;\n",
       "    }\n",
       "\n",
       "    .dataframe thead th {\n",
       "        text-align: right;\n",
       "    }\n",
       "</style>\n",
       "<table border=\"1\" class=\"dataframe\">\n",
       "  <thead>\n",
       "    <tr style=\"text-align: right;\">\n",
       "      <th></th>\n",
       "      <th>time</th>\n",
       "      <th>room</th>\n",
       "      <th>value</th>\n",
       "    </tr>\n",
       "  </thead>\n",
       "  <tbody>\n",
       "    <tr>\n",
       "      <th>0</th>\n",
       "      <td>2013-08-24 04:03:00</td>\n",
       "      <td>776</td>\n",
       "      <td>48.670000</td>\n",
       "    </tr>\n",
       "    <tr>\n",
       "      <th>1</th>\n",
       "      <td>2013-08-24 06:41:00</td>\n",
       "      <td>776</td>\n",
       "      <td>49.936667</td>\n",
       "    </tr>\n",
       "    <tr>\n",
       "      <th>2</th>\n",
       "      <td>2013-08-24 09:18:00</td>\n",
       "      <td>776</td>\n",
       "      <td>51.367500</td>\n",
       "    </tr>\n",
       "    <tr>\n",
       "      <th>3</th>\n",
       "      <td>2013-08-24 09:28:00</td>\n",
       "      <td>776</td>\n",
       "      <td>51.552500</td>\n",
       "    </tr>\n",
       "    <tr>\n",
       "      <th>4</th>\n",
       "      <td>2013-08-24 11:43:00</td>\n",
       "      <td>776</td>\n",
       "      <td>52.625000</td>\n",
       "    </tr>\n",
       "  </tbody>\n",
       "</table>\n",
       "</div>"
      ],
      "text/plain": [
       "                 time room      value\n",
       "0 2013-08-24 04:03:00  776  48.670000\n",
       "1 2013-08-24 06:41:00  776  49.936667\n",
       "2 2013-08-24 09:18:00  776  51.367500\n",
       "3 2013-08-24 09:28:00  776  51.552500\n",
       "4 2013-08-24 11:43:00  776  52.625000"
      ]
     },
     "execution_count": 31,
     "metadata": {},
     "output_type": "execute_result"
    }
   ],
   "source": [
    "df_humidity = spark.sql(\"\"\"\n",
    "\n",
    "    SELECT time, room, avg(value) as value\n",
    "    FROM keti_1\n",
    "    where sensor = 'humidity'\n",
    "    group by time, room\n",
    "    \n",
    "\"\"\")\n",
    "\n",
    "df_humidity.printSchema()\n",
    "\n",
    "df_humidity.limit(5).toPandas()"
   ]
  },
  {
   "cell_type": "code",
   "execution_count": 32,
   "id": "eba1b9cd-ad0e-4972-8409-af755193c38e",
   "metadata": {},
   "outputs": [],
   "source": [
    "df_humidity.createOrReplaceTempView(\"humidity\")"
   ]
  },
  {
   "cell_type": "code",
   "execution_count": 33,
   "id": "bd5fc72d-db3f-4358-a4cc-ab6048b46834",
   "metadata": {},
   "outputs": [
    {
     "name": "stdout",
     "output_type": "stream",
     "text": [
      "root\n",
      " |-- time: timestamp (nullable = true)\n",
      " |-- room: string (nullable = true)\n",
      " |-- value: decimal(14,6) (nullable = true)\n",
      "\n"
     ]
    },
    {
     "name": "stderr",
     "output_type": "stream",
     "text": [
      "                                                                                \r"
     ]
    },
    {
     "data": {
      "text/html": [
       "<div>\n",
       "<style scoped>\n",
       "    .dataframe tbody tr th:only-of-type {\n",
       "        vertical-align: middle;\n",
       "    }\n",
       "\n",
       "    .dataframe tbody tr th {\n",
       "        vertical-align: top;\n",
       "    }\n",
       "\n",
       "    .dataframe thead th {\n",
       "        text-align: right;\n",
       "    }\n",
       "</style>\n",
       "<table border=\"1\" class=\"dataframe\">\n",
       "  <thead>\n",
       "    <tr style=\"text-align: right;\">\n",
       "      <th></th>\n",
       "      <th>time</th>\n",
       "      <th>room</th>\n",
       "      <th>value</th>\n",
       "    </tr>\n",
       "  </thead>\n",
       "  <tbody>\n",
       "    <tr>\n",
       "      <th>0</th>\n",
       "      <td>2013-08-24 04:03:00</td>\n",
       "      <td>776</td>\n",
       "      <td>591.500000</td>\n",
       "    </tr>\n",
       "    <tr>\n",
       "      <th>1</th>\n",
       "      <td>2013-08-24 06:41:00</td>\n",
       "      <td>776</td>\n",
       "      <td>517.916667</td>\n",
       "    </tr>\n",
       "    <tr>\n",
       "      <th>2</th>\n",
       "      <td>2013-08-24 09:18:00</td>\n",
       "      <td>776</td>\n",
       "      <td>497.500000</td>\n",
       "    </tr>\n",
       "    <tr>\n",
       "      <th>3</th>\n",
       "      <td>2013-08-24 09:28:00</td>\n",
       "      <td>776</td>\n",
       "      <td>492.916667</td>\n",
       "    </tr>\n",
       "    <tr>\n",
       "      <th>4</th>\n",
       "      <td>2013-08-24 11:43:00</td>\n",
       "      <td>776</td>\n",
       "      <td>486.500000</td>\n",
       "    </tr>\n",
       "  </tbody>\n",
       "</table>\n",
       "</div>"
      ],
      "text/plain": [
       "                 time room       value\n",
       "0 2013-08-24 04:03:00  776  591.500000\n",
       "1 2013-08-24 06:41:00  776  517.916667\n",
       "2 2013-08-24 09:18:00  776  497.500000\n",
       "3 2013-08-24 09:28:00  776  492.916667\n",
       "4 2013-08-24 11:43:00  776  486.500000"
      ]
     },
     "execution_count": 33,
     "metadata": {},
     "output_type": "execute_result"
    }
   ],
   "source": [
    "df_co2 = spark.sql(\"\"\"\n",
    "\n",
    "    SELECT time, room, avg(value) as value\n",
    "    FROM keti_1\n",
    "    where sensor = 'co2'\n",
    "    group by time, room\n",
    "    \n",
    "\"\"\")\n",
    "\n",
    "df_co2.printSchema()\n",
    "\n",
    "df_co2.limit(5).toPandas()"
   ]
  },
  {
   "cell_type": "code",
   "execution_count": 34,
   "id": "a288ad9e-1c3b-4103-bc7f-8cecfc5483f4",
   "metadata": {},
   "outputs": [],
   "source": [
    "df_co2.createOrReplaceTempView(\"co2\")"
   ]
  },
  {
   "cell_type": "code",
   "execution_count": 35,
   "id": "c16f8a42-4724-4176-8436-cf4f14baa449",
   "metadata": {},
   "outputs": [
    {
     "name": "stdout",
     "output_type": "stream",
     "text": [
      "root\n",
      " |-- room: string (nullable = true)\n",
      " |-- time: timestamp (nullable = true)\n",
      " |-- temperature: decimal(14,6) (nullable = true)\n",
      " |-- pir: decimal(14,6) (nullable = true)\n",
      " |-- light: decimal(14,6) (nullable = true)\n",
      " |-- humidity: decimal(14,6) (nullable = true)\n",
      " |-- co2: decimal(14,6) (nullable = true)\n",
      "\n"
     ]
    },
    {
     "name": "stderr",
     "output_type": "stream",
     "text": [
      "                                                                                \r"
     ]
    },
    {
     "data": {
      "text/html": [
       "<div>\n",
       "<style scoped>\n",
       "    .dataframe tbody tr th:only-of-type {\n",
       "        vertical-align: middle;\n",
       "    }\n",
       "\n",
       "    .dataframe tbody tr th {\n",
       "        vertical-align: top;\n",
       "    }\n",
       "\n",
       "    .dataframe thead th {\n",
       "        text-align: right;\n",
       "    }\n",
       "</style>\n",
       "<table border=\"1\" class=\"dataframe\">\n",
       "  <thead>\n",
       "    <tr style=\"text-align: right;\">\n",
       "      <th></th>\n",
       "      <th>room</th>\n",
       "      <th>time</th>\n",
       "      <th>temperature</th>\n",
       "      <th>pir</th>\n",
       "      <th>light</th>\n",
       "      <th>humidity</th>\n",
       "      <th>co2</th>\n",
       "    </tr>\n",
       "  </thead>\n",
       "  <tbody>\n",
       "    <tr>\n",
       "      <th>0</th>\n",
       "      <td>511</td>\n",
       "      <td>2013-08-24 02:04:00</td>\n",
       "      <td>22.620000</td>\n",
       "      <td>0.000000</td>\n",
       "      <td>250.500000</td>\n",
       "      <td>52.750000</td>\n",
       "      <td>389.000000</td>\n",
       "    </tr>\n",
       "    <tr>\n",
       "      <th>1</th>\n",
       "      <td>621A</td>\n",
       "      <td>2013-08-24 02:04:00</td>\n",
       "      <td>22.210000</td>\n",
       "      <td>0.000000</td>\n",
       "      <td>125.500000</td>\n",
       "      <td>55.230000</td>\n",
       "      <td>385.000000</td>\n",
       "    </tr>\n",
       "    <tr>\n",
       "      <th>2</th>\n",
       "      <td>644</td>\n",
       "      <td>2013-08-24 02:04:00</td>\n",
       "      <td>22.805000</td>\n",
       "      <td>0.000000</td>\n",
       "      <td>165.000000</td>\n",
       "      <td>52.385000</td>\n",
       "      <td>468.500000</td>\n",
       "    </tr>\n",
       "    <tr>\n",
       "      <th>3</th>\n",
       "      <td>648</td>\n",
       "      <td>2013-08-24 02:04:00</td>\n",
       "      <td>23.320000</td>\n",
       "      <td>0.000000</td>\n",
       "      <td>190.000000</td>\n",
       "      <td>50.320000</td>\n",
       "      <td>174.500000</td>\n",
       "    </tr>\n",
       "    <tr>\n",
       "      <th>4</th>\n",
       "      <td>656A</td>\n",
       "      <td>2013-08-24 02:04:00</td>\n",
       "      <td>24.370000</td>\n",
       "      <td>28.500000</td>\n",
       "      <td>176.500000</td>\n",
       "      <td>49.900000</td>\n",
       "      <td>578.500000</td>\n",
       "    </tr>\n",
       "  </tbody>\n",
       "</table>\n",
       "</div>"
      ],
      "text/plain": [
       "   room                time temperature        pir       light   humidity  \\\n",
       "0   511 2013-08-24 02:04:00   22.620000   0.000000  250.500000  52.750000   \n",
       "1  621A 2013-08-24 02:04:00   22.210000   0.000000  125.500000  55.230000   \n",
       "2   644 2013-08-24 02:04:00   22.805000   0.000000  165.000000  52.385000   \n",
       "3   648 2013-08-24 02:04:00   23.320000   0.000000  190.000000  50.320000   \n",
       "4  656A 2013-08-24 02:04:00   24.370000  28.500000  176.500000  49.900000   \n",
       "\n",
       "          co2  \n",
       "0  389.000000  \n",
       "1  385.000000  \n",
       "2  468.500000  \n",
       "3  174.500000  \n",
       "4  578.500000  "
      ]
     },
     "execution_count": 35,
     "metadata": {},
     "output_type": "execute_result"
    }
   ],
   "source": [
    "df_all = spark.sql(\"\"\"\n",
    "\n",
    "    SELECT t.room, t.time, t.value as temperature, p.value as pir, l.value as light, h.value as humidity, c.value as co2\n",
    "    from temperature t\n",
    "    inner join pir p on p.time = t.time and p.room = t.room\n",
    "    inner join light l on l.time = t.time and l.room = t.room\n",
    "    inner join humidity h on h.time = t.time and h.room = t.room\n",
    "    inner join co2 c on c.time = t.time and c.room = t.room\n",
    "    \n",
    "\"\"\")\n",
    "\n",
    "df_all.printSchema()\n",
    "\n",
    "df_all.limit(5).toPandas()"
   ]
  },
  {
   "cell_type": "code",
   "execution_count": 36,
   "id": "7018053c-4f58-4e1d-a6c1-4a42bf029d6f",
   "metadata": {},
   "outputs": [],
   "source": [
    "df_all.createOrReplaceTempView(\"keti_all\")"
   ]
  },
  {
   "cell_type": "code",
   "execution_count": 40,
   "id": "25d2e709-1218-46f8-81e6-587981f3e447",
   "metadata": {},
   "outputs": [
    {
     "name": "stdout",
     "output_type": "stream",
     "text": [
      "root\n",
      " |-- time: timestamp (nullable = true)\n",
      " |-- room: string (nullable = true)\n",
      " |-- temperature: float (nullable = true)\n",
      " |-- pir: float (nullable = true)\n",
      " |-- light: float (nullable = true)\n",
      " |-- humidity: float (nullable = true)\n",
      " |-- co2: float (nullable = true)\n",
      "\n"
     ]
    },
    {
     "name": "stderr",
     "output_type": "stream",
     "text": [
      "                                                                                \r"
     ]
    },
    {
     "data": {
      "text/html": [
       "<div>\n",
       "<style scoped>\n",
       "    .dataframe tbody tr th:only-of-type {\n",
       "        vertical-align: middle;\n",
       "    }\n",
       "\n",
       "    .dataframe tbody tr th {\n",
       "        vertical-align: top;\n",
       "    }\n",
       "\n",
       "    .dataframe thead th {\n",
       "        text-align: right;\n",
       "    }\n",
       "</style>\n",
       "<table border=\"1\" class=\"dataframe\">\n",
       "  <thead>\n",
       "    <tr style=\"text-align: right;\">\n",
       "      <th></th>\n",
       "      <th>time</th>\n",
       "      <th>room</th>\n",
       "      <th>temperature</th>\n",
       "      <th>pir</th>\n",
       "      <th>light</th>\n",
       "      <th>humidity</th>\n",
       "      <th>co2</th>\n",
       "    </tr>\n",
       "  </thead>\n",
       "  <tbody>\n",
       "    <tr>\n",
       "      <th>0</th>\n",
       "      <td>2013-08-24 02:04:00</td>\n",
       "      <td>510</td>\n",
       "      <td>23.459999</td>\n",
       "      <td>0.0</td>\n",
       "      <td>204.0</td>\n",
       "      <td>52.619999</td>\n",
       "      <td>404.0</td>\n",
       "    </tr>\n",
       "    <tr>\n",
       "      <th>1</th>\n",
       "      <td>2013-08-24 02:04:00</td>\n",
       "      <td>511</td>\n",
       "      <td>22.620001</td>\n",
       "      <td>0.0</td>\n",
       "      <td>250.5</td>\n",
       "      <td>52.750000</td>\n",
       "      <td>389.0</td>\n",
       "    </tr>\n",
       "    <tr>\n",
       "      <th>2</th>\n",
       "      <td>2013-08-24 02:04:00</td>\n",
       "      <td>621</td>\n",
       "      <td>25.590000</td>\n",
       "      <td>14.0</td>\n",
       "      <td>67.5</td>\n",
       "      <td>49.119999</td>\n",
       "      <td>500.0</td>\n",
       "    </tr>\n",
       "    <tr>\n",
       "      <th>3</th>\n",
       "      <td>2013-08-24 02:04:00</td>\n",
       "      <td>621A</td>\n",
       "      <td>22.209999</td>\n",
       "      <td>0.0</td>\n",
       "      <td>125.5</td>\n",
       "      <td>55.230000</td>\n",
       "      <td>385.0</td>\n",
       "    </tr>\n",
       "    <tr>\n",
       "      <th>4</th>\n",
       "      <td>2013-08-24 02:04:00</td>\n",
       "      <td>640</td>\n",
       "      <td>22.740000</td>\n",
       "      <td>0.0</td>\n",
       "      <td>8.0</td>\n",
       "      <td>52.480000</td>\n",
       "      <td>455.0</td>\n",
       "    </tr>\n",
       "  </tbody>\n",
       "</table>\n",
       "</div>"
      ],
      "text/plain": [
       "                 time  room  temperature   pir  light   humidity    co2\n",
       "0 2013-08-24 02:04:00   510    23.459999   0.0  204.0  52.619999  404.0\n",
       "1 2013-08-24 02:04:00   511    22.620001   0.0  250.5  52.750000  389.0\n",
       "2 2013-08-24 02:04:00   621    25.590000  14.0   67.5  49.119999  500.0\n",
       "3 2013-08-24 02:04:00  621A    22.209999   0.0  125.5  55.230000  385.0\n",
       "4 2013-08-24 02:04:00   640    22.740000   0.0    8.0  52.480000  455.0"
      ]
     },
     "execution_count": 40,
     "metadata": {},
     "output_type": "execute_result"
    }
   ],
   "source": [
    "df_2 = spark.sql(\"\"\"\n",
    "\n",
    "    SELECT cast(time as timestamp) as time,\n",
    "    room,\n",
    "    cast(cast(temperature as decimal(5,2)) as float) as temperature,\n",
    "    cast(cast(pir as decimal(5,2)) as float) as pir,\n",
    "    cast(cast(light as decimal(5,2)) as float) as light,\n",
    "    cast(cast(humidity as decimal(5,2)) as float) as humidity,\n",
    "    cast(cast(co2 as decimal(5,2)) as float) as co2\n",
    "    from keti_all\n",
    "    order by time, room\n",
    "    \n",
    "\"\"\")\n",
    "\n",
    "df_2.printSchema()\n",
    "\n",
    "df_2.limit(5).toPandas()"
   ]
  },
  {
   "cell_type": "code",
   "execution_count": 41,
   "id": "0e126efa-5060-4e30-ba8b-49bda8ab680e",
   "metadata": {},
   "outputs": [
    {
     "name": "stderr",
     "output_type": "stream",
     "text": [
      "[Stage 75:=============================>                            (1 + 1) / 2]\r"
     ]
    },
    {
     "data": {
      "text/plain": [
       "533696"
      ]
     },
     "execution_count": 41,
     "metadata": {},
     "output_type": "execute_result"
    },
    {
     "name": "stderr",
     "output_type": "stream",
     "text": [
      "                                                                                \r"
     ]
    }
   ],
   "source": [
    "df_2.count()"
   ]
  },
  {
   "cell_type": "code",
   "execution_count": 42,
   "id": "c1ddbe55-c958-45a5-a2f6-50bb69b1132f",
   "metadata": {},
   "outputs": [],
   "source": [
    "from pyspark.sql import SparkSession, functions as F\n",
    "from pyspark.sql.types import  *\n",
    "import time"
   ]
  },
  {
   "cell_type": "code",
   "execution_count": 43,
   "id": "23bd1d71-2209-4366-8779-4b945394bc8e",
   "metadata": {},
   "outputs": [
    {
     "name": "stderr",
     "output_type": "stream",
     "text": [
      "[Stage 106:>                                                        (0 + 1) / 1]\r"
     ]
    },
    {
     "name": "stdout",
     "output_type": "stream",
     "text": [
      "----------- 118.29868507385254 secs ----------\n",
      "total 4\n",
      "drwxr-xr-x.  2 train train  184 Nov 17 13:49 concat_keti_parq\n",
      "drwxrwxr-x. 53 train train 4096 Oct 21 18:29 KETI\n"
     ]
    },
    {
     "name": "stderr",
     "output_type": "stream",
     "text": [
      "                                                                                \r"
     ]
    }
   ],
   "source": [
    "# export cleaned and transformed data parguet format.\n",
    "\n",
    "start_time = time.time()\n",
    "\n",
    "df_2.coalesce(1).write \\\n",
    ".format(\"parquet\") \\\n",
    ".mode(\"overwrite\") \\\n",
    ".option(\"compression\", \"none\") \\\n",
    ".save(\"file:///opt/spark/examples/datasets/concat_keti_parq\")\n",
    "\n",
    "\n",
    "print(\"----------- %s secs ----------\" %(time.time() - start_time))\n",
    "\n",
    "! ls -l /opt/spark/examples/datasets/"
   ]
  },
  {
   "cell_type": "code",
   "execution_count": 44,
   "id": "14165df1-34a6-4f50-9b26-152a00f9b12b",
   "metadata": {},
   "outputs": [],
   "source": [
    "spark.stop()"
   ]
  },
  {
   "cell_type": "code",
   "execution_count": null,
   "id": "cf48ab29-2060-4a8b-854d-618698aad03e",
   "metadata": {},
   "outputs": [],
   "source": []
  }
 ],
 "metadata": {
  "kernelspec": {
   "display_name": "Python 3 (ipykernel)",
   "language": "python",
   "name": "python3"
  },
  "language_info": {
   "codemirror_mode": {
    "name": "ipython",
    "version": 3
   },
   "file_extension": ".py",
   "mimetype": "text/x-python",
   "name": "python",
   "nbconvert_exporter": "python",
   "pygments_lexer": "ipython3",
   "version": "3.8.10"
  }
 },
 "nbformat": 4,
 "nbformat_minor": 5
}
